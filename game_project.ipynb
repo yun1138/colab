{
  "nbformat": 4,
  "nbformat_minor": 0,
  "metadata": {
    "colab": {
      "provenance": [],
      "include_colab_link": true
    },
    "kernelspec": {
      "name": "python3",
      "display_name": "Python 3"
    },
    "language_info": {
      "name": "python"
    }
  },
  "cells": [
    {
      "cell_type": "markdown",
      "metadata": {
        "id": "view-in-github",
        "colab_type": "text"
      },
      "source": [
        "<a href=\"https://colab.research.google.com/github/yun1138/colab/blob/main/game_project.ipynb\" target=\"_parent\"><img src=\"https://colab.research.google.com/assets/colab-badge.svg\" alt=\"Open In Colab\"/></a>"
      ]
    },
    {
      "cell_type": "code",
      "source": [
        "!pip install unicodecsv"
      ],
      "metadata": {
        "colab": {
          "base_uri": "https://localhost:8080/"
        },
        "id": "SfkbRbhH84dv",
        "outputId": "d0c1a0a6-01df-4699-d79c-25f7645dec46"
      },
      "execution_count": null,
      "outputs": [
        {
          "output_type": "stream",
          "name": "stdout",
          "text": [
            "Looking in indexes: https://pypi.org/simple, https://us-python.pkg.dev/colab-wheels/public/simple/\n",
            "Collecting unicodecsv\n",
            "  Downloading unicodecsv-0.14.1.tar.gz (10 kB)\n",
            "Building wheels for collected packages: unicodecsv\n",
            "  Building wheel for unicodecsv (setup.py) ... \u001b[?25l\u001b[?25hdone\n",
            "  Created wheel for unicodecsv: filename=unicodecsv-0.14.1-py3-none-any.whl size=10766 sha256=c425837c420e2a44c2bc48331e5fde9ac38942392f6bbce40a759cdfdc872961\n",
            "  Stored in directory: /root/.cache/pip/wheels/35/dd/44/ccb37563a01457f5de74ccedccaee81b01a53e12addeab5e0f\n",
            "Successfully built unicodecsv\n",
            "Installing collected packages: unicodecsv\n",
            "Successfully installed unicodecsv-0.14.1\n"
          ]
        }
      ]
    },
    {
      "cell_type": "code",
      "execution_count": null,
      "metadata": {
        "id": "f7T3pXdzK2FW"
      },
      "outputs": [],
      "source": [
        "from urllib.request import Request, urlopen\n",
        "from bs4 import BeautifulSoup\n",
        "import time\n",
        "import pandas as pd\n",
        "import unicodecsv as ucsv\n",
        "import matplotlib.pyplot as plt"
      ]
    },
    {
      "cell_type": "code",
      "source": [
        "current=time.strftime(\"%Y-%m-%d-%H%M\",time.localtime())\n",
        "print(\"Current Time:\",current)\n",
        "filename = ['LOL_鐵牌','LOL_銅牌','LOL_銀牌','LOL_黃金','LOL_白金','LOL_鑽石','LOL_大師']\n",
        "\n",
        "try:\n",
        "    rec_time=str(input('是否依現在時間點來做CSV檔命名(以免覆蓋之前的時間點)? (y/N)'))\n",
        "except:\n",
        "    print(\"發生錯誤\")\n",
        "    raise\n",
        "else:\n",
        "    if(rec_time=='y' or rec_time== 'Y'):\n",
        "        print(\"(依照時間點進行檔案命名)\")\n",
        "        filename = ['LOL_鐵牌'+current,'LOL_銅牌'+current,'LOL_銀牌'+current,'LOL_黃金'+current,'LOL_白金'+current,'LOL_鑽石'+current,'LOL_大師'+current]\n",
        "    else:\n",
        "        print(\"(不依時間點進行檔案命名)\")\n",
        "\n",
        "\n",
        "ranking = ['iron','bronze','silver','gold','','diamond','master']\n",
        "for r in range(len(ranking)):\n",
        "  url = 'https://www.leagueofgraphs.com/champions/builds/'+ranking[r]\n",
        "  request_site = Request(url, headers={\"User-Agent\": \"Mozilla/5.0\"})\n",
        "  webpage = urlopen(request_site).read()\n",
        "\n",
        "  soup=BeautifulSoup(webpage,'html5lib')\n",
        "  table=soup.find('div',attrs={'id':'mainContent'})\n",
        "\n",
        "  with open(filename[r]+'.csv', 'wb') as csvfile:\n",
        "    writer = ucsv.writer(csvfile,encoding='utf-8-sig')\n",
        "    data = [[u\"編號\",\"名字\",\"選用率\",\"勝率\",\"禁用率\",\"擊殺\",\"死亡\",\"助攻\"]]\n",
        "    #writer.writerows(data)\n",
        "\n",
        "    rank_result={}\n",
        "    i=0\n",
        "    names=soup.findAll('span',attrs={'class':\"name\"})\n",
        "    for n in names:\n",
        "      rank_result[i]=[]\n",
        "      rank_result[i].append((n.get_text().strip()))\n",
        "      i+=1\n",
        "\n",
        "    rate=table.findAll('progressbar')\n",
        "    i=0\n",
        "    j=0\n",
        "    for t in rate:\n",
        "      #print(t['data-value'])\n",
        "      rank_result[i].append(t['data-value'])\n",
        "      j+=1\n",
        "      if j % 3 == 0:\n",
        "        i+=1\n",
        "        j=0\n",
        "\n",
        "    #kill\n",
        "    i=0\n",
        "    kills=soup.findAll('span',attrs={'class':\"kills\"})\n",
        "    for n in kills:\n",
        "      rank_result[i].append((n.get_text().strip()))\n",
        "      i+=1\n",
        "\n",
        "    #deaths\n",
        "    i=0\n",
        "    deaths=soup.findAll('span',attrs={'class':\"deaths\"})\n",
        "    for n in deaths:\n",
        "      rank_result[i].append((n.get_text().strip()))\n",
        "      i+=1\n",
        "\n",
        "    #assists\n",
        "    i=0\n",
        "    assists=soup.findAll('span',attrs={'class':\"assists\"})\n",
        "    for n in assists:\n",
        "      rank_result[i].append((n.get_text().strip()))\n",
        "      i+=1\n",
        "\n",
        "\n",
        "    #print(\"\\t名字\\t\\t選用率\\t 勝率\\t禁用率\\t擊殺\\t死亡\\t助攻\")\n",
        "    for i in range(len(rank_result)):\n",
        "      #print(\"%8s\\t\\t%s\\t%s\\t%s\\t%s\\t%s\\t%s\"%(rank_result[i][0],rank_result[i][1],rank_result[i][2],rank_result[i][3],rank_result[i][4],rank_result[i][5],rank_result[i][6]))\n",
        "      data.append([i,rank_result[i][0],rank_result[i][1],rank_result[i][2],rank_result[i][3],rank_result[i][4],rank_result[i][5],rank_result[i][6]])\n",
        "    #print(data)\n",
        "    writer.writerows(data)\n",
        "    if ranking[r]=='':\n",
        "      print(\"--- Ranking: platinum End ---\")\n",
        "    else:\n",
        "      print(\"--- Ranking: \",ranking[r],\"End ---\")\n",
        "\n",
        "###-----------------------------------------------------------------------------------------------------------------------------------------------------------------------------------\n",
        "# 功能1\n",
        "    # result 陣列\n",
        "    lr = len(rank_result)\n",
        "    array_result = [[[]]*7] * lr\n",
        "    for k in range(len(rank_result)):\n",
        "        array_result[[k][0]] = rank_result[[k][0]]\n",
        "\n",
        "    #依字母Ａ～Ｚ排序\n",
        "    array_result.sort(key=lambda x:x[0], reverse = False)\n",
        "    #print(\"名字\\t\\t選用率\\t勝率\\t禁用率\\t擊殺\\t死亡\\t助攻\")\n",
        "\n",
        "\n",
        "    if ranking[r]=='iron':\n",
        "        iron_array = array_result\n",
        "    elif ranking[r]=='bronze':\n",
        "        bronze_array = array_result\n",
        "    elif ranking[r]=='silver':\n",
        "        silver_array = array_result\n",
        "    elif ranking[r]=='gold':\n",
        "        gold_array = array_result\n",
        "    elif ranking[r]=='':\n",
        "        rank_array = array_result\n",
        "    elif ranking[r]=='diamond':\n",
        "        diamond_array = array_result\n",
        "    else:\n",
        "        master_array = array_result\n",
        "\n",
        "final_array = [[[]]*8] * lr\n",
        "\n",
        "for i in range(len(iron_array)):\n",
        "    list_array = [iron_array[i][0],float(iron_array[i][2]),float(bronze_array[i][2]),float(silver_array[i][2]),\n",
        "                  float(gold_array[i][2]),float(rank_array[i][2]),float(diamond_array[i][2]),float(master_array[i][2])]\n",
        "    final_array[[i][0]] = list_array\n",
        "\n",
        "df = pd.DataFrame(final_array)\n",
        "df.columns = [\"name\", \"IRON\", \"BRONZE\", \"SILVER\", \"GOLD\", \"PLATINUM\", \"DIAMOND\", \"MASTER\"]\n",
        "#print(df)\n",
        "df.to_csv('rank_df.csv')\n",
        "print('CSV Done')\n",
        "###-----------------------------------------------------------------------------------------------------------------------------------------------------------------------------------\n"
      ],
      "metadata": {
        "colab": {
          "base_uri": "https://localhost:8080/"
        },
        "id": "yQzyZBmuK96p",
        "outputId": "78c61544-7772-4e19-cc33-6e0b973bd033"
      },
      "execution_count": null,
      "outputs": [
        {
          "output_type": "stream",
          "name": "stdout",
          "text": [
            "Current Time: 2022-12-21-1535\n",
            "是否依現在時間點來做CSV檔命名(以免覆蓋之前的時間點)? (y/N)N\n",
            "(不依時間點進行檔案命名)\n",
            "--- Ranking:  iron End ---\n",
            "--- Ranking:  bronze End ---\n",
            "--- Ranking:  silver End ---\n",
            "--- Ranking:  gold End ---\n",
            "--- Ranking: platinum End ---\n",
            "--- Ranking:  diamond End ---\n",
            "--- Ranking:  master End ---\n",
            "CSV Done\n"
          ]
        }
      ]
    },
    {
      "cell_type": "code",
      "source": [
        "###-----------------------------------------------------------------------------------------------------------------------------------------------------------------------------------\n",
        "# 功能 2\n",
        "df_2 = pd.DataFrame(final_array)\n",
        "ts = df_2.T\n",
        "\n",
        "ts.loc[:,'rank'] = ['','IRON','BRONZE','SILVER','GOLD','PLATINUM','DIAMOND','MASTER']\n",
        "ts.columns = ts.loc[0]\n",
        "ts = ts.drop(0)\n",
        "\n",
        "name = input(\"Please enter the name : \")\n",
        "name = str(name)\n",
        "\n",
        "ts.plot(x='',y=name, figsize=(10,7), title='rank')"
      ],
      "metadata": {
        "id": "eDW1u4rln-XP"
      },
      "execution_count": null,
      "outputs": []
    },
    {
      "cell_type": "code",
      "source": [
        "###-----------------------------------------------------------------------------------------------------------------------------------------------------------------------------------\n",
        "# 功能 3\n",
        "\n",
        "\n",
        "lr = len(rank_result)\n",
        "final_array_2 = [[]] * lr\n",
        "for i in range(len(iron_array)):\n",
        "    list_array = [iron_array[i][0],float(iron_array[i][1]),float(iron_array[i][2]),\n",
        "                  float(bronze_array[i][1]),float(bronze_array[i][2]),\n",
        "                  float(silver_array[i][1]),float(silver_array[i][2]),\n",
        "                  float(gold_array[i][1]),float(gold_array[i][2]),\n",
        "                  float(rank_array[i][1]),float(rank_array[i][2]),\n",
        "                  float(diamond_array[i][1]),float(diamond_array[i][2]),\n",
        "                  float(master_array[i][1]),float(master_array[i][2])]\n",
        "    final_array_2[[i][0]] = list_array\n",
        "name = str(input(\"Please enter the name : \"))\n",
        "rank = str(input(\"Please enter the rank　: \"))\n",
        "if rank == \"iron\":\n",
        "  rankn = 1\n",
        "elif rank == \"bronze\":\n",
        "  rankn = 3\n",
        "elif rank == \"silver\":\n",
        "  rankn = 5\n",
        "elif rank == \"gold\":\n",
        "  rankn = 7\n",
        "elif rank == \"platinum\":\n",
        "  rankn = 9\n",
        "elif rank == \"diamond\":\n",
        "  rankn = 11\n",
        "elif rank == \"master\":\n",
        "  rankn = 13\n",
        "data = []\n",
        "for i in final_array_2:\n",
        "  if i[0] == name:\n",
        "    data = i\n",
        "\n",
        "data_x = data[rankn]\n",
        "data_y = data[rankn+1]\n",
        "plt.scatter(data_x,data_y)\n",
        "plt.text(data_x,data_y,name+\" \"+rank,size=18,color='blue')\n",
        "plt.xlim(0,1)\n",
        "plt.ylim(0,1)\n",
        "plt.xlabel(\"population\",size=16)\n",
        "plt.ylabel(\"winrate\",size=16)\n",
        "plt.show"
      ],
      "metadata": {
        "colab": {
          "base_uri": "https://localhost:8080/",
          "height": 340
        },
        "id": "16Qrtzyp9Q7R",
        "outputId": "70cbcb6b-c670-4c9b-cf17-ddde03cbc57e"
      },
      "execution_count": null,
      "outputs": [
        {
          "name": "stdout",
          "output_type": "stream",
          "text": [
            "Please enter the name : Aatrox\n",
            "Please enter the rank　: gold\n"
          ]
        },
        {
          "output_type": "execute_result",
          "data": {
            "text/plain": [
              "<function matplotlib.pyplot.show(*args, **kw)>"
            ]
          },
          "metadata": {},
          "execution_count": 70
        },
        {
          "output_type": "display_data",
          "data": {
            "text/plain": [
              "<Figure size 432x288 with 1 Axes>"
            ],
            "image/png": "[encoded data removed]"
          },
          "metadata": {
            "needs_background": "light"
          }
        }
      ]
    }
  ]
}